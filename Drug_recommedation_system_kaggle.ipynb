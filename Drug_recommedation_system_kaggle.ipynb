{
  "cells": [
    {
      "cell_type": "code",
      "execution_count": 41,
      "metadata": {
        "id": "VSvYfCanBUUa"
      },
      "outputs": [],
      "source": [
        "import pandas as pd\n",
        "import numpy as np\n",
        "import matplotlib.pyplot as plt\n",
        "from sklearn.metrics.pairwise import cosine_similarity\n",
        "import re\n",
        "import random"
      ]
    },
    {
      "cell_type": "code",
      "execution_count": 42,
      "metadata": {
        "id": "QODlHXL6BUUb"
      },
      "outputs": [],
      "source": [
        "df = pd.read_csv('dataset.csv')\n",
        "df['Price'] = df['Price'].str.replace('₹', '')"
      ]
    },
    {
      "cell_type": "code",
      "execution_count": 43,
      "metadata": {},
      "outputs": [
        {
          "name": "stdout",
          "output_type": "stream",
          "text": [
            "(34284, 23)\n"
          ]
        }
      ],
      "source": [
        "print(df.shape)"
      ]
    },
    {
      "cell_type": "markdown",
      "metadata": {},
      "source": [
        "Function"
      ]
    },
    {
      "cell_type": "code",
      "execution_count": 44,
      "metadata": {
        "id": "QS-3OELtBUUo"
      },
      "outputs": [],
      "source": [
        "# จัดการ SIde_effect\n",
        "def split_side_effect(text):\n",
        "    if not isinstance(text, str):\n",
        "        return []  \n",
        "    pattern = r'(?<=[a-z )])(?=[A-Z])'\n",
        "    side_effects = re.split(pattern, text)\n",
        "    side_effects = [effect.strip() for effect in side_effects if effect.strip()]\n",
        "    return side_effects\n",
        "df['Side_effects'] = df['Side_effects'].apply(split_side_effect)"
      ]
    },
    {
      "cell_type": "code",
      "execution_count": 45,
      "metadata": {
        "id": "wq_zaDzyBUUn"
      },
      "outputs": [],
      "source": [
        "# จัดการข้อมูล Status\n",
        "def clean_status(status_text):\n",
        "    if isinstance(status_text, str):\n",
        "        pattern = r\"(available|sold out)\"\n",
        "        match = re.search(pattern, status_text, re.I)\n",
        "        if match:\n",
        "            return match.group(0).lower()\n",
        "        else:\n",
        "            return \"Not found\"\n",
        "    else:\n",
        "        return \"Not found\"\n",
        "df['Status'] = df['Status'].apply(clean_status)"
      ]
    },
    {
      "cell_type": "markdown",
      "metadata": {},
      "source": [
        "Data Prep"
      ]
    },
    {
      "cell_type": "code",
      "execution_count": 46,
      "metadata": {},
      "outputs": [],
      "source": [
        "df.drop('Poor', axis=1, inplace=True)\n",
        "df.drop('Excellent', axis=1, inplace=True)\n",
        "df.drop('Average', axis=1, inplace=True)"
      ]
    },
    {
      "cell_type": "code",
      "execution_count": 47,
      "metadata": {
        "id": "Ay-HSgwfBUUc"
      },
      "outputs": [],
      "source": [
        "df.drop('web-scraper-order', axis=1, inplace=True)\n",
        "df.drop('web-scraper-start-url', axis=1, inplace=True)\n",
        "df.drop('Links', axis=1, inplace=True)\n",
        "df.drop('Links-href', axis=1, inplace=True)"
      ]
    },
    {
      "cell_type": "code",
      "execution_count": 48,
      "metadata": {},
      "outputs": [],
      "source": [
        "df[\"Alcohol\"].fillna(\"No_impact\", inplace=True)\n",
        "df[\"Pregnancy\"].fillna(\"No_impact\", inplace=True)\n",
        "df[\"Breast feeding\"].fillna(\"No_impact\", inplace=True)\n",
        "df[\"Driving\"].fillna(\"No_impact\", inplace=True)\n",
        "df[\"Kidney\"].fillna(\"No_impact\", inplace=True)\n",
        "df[\"Liver\"].fillna(\"No_impact\", inplace=True)\n",
        "\n",
        "df['Alcohol'] = df['Alcohol'].str.lower()\n",
        "df['Pregnancy'] = df['Pregnancy'].str.lower()\n",
        "df['Breast feeding'] = df['Breast feeding'].str.lower()\n",
        "df['Driving'] = df['Driving'].str.lower()\n",
        "df['Kidney'] = df['Kidney'].str.lower()\n",
        "df['Liver'] = df['Liver'].str.lower()"
      ]
    },
    {
      "cell_type": "code",
      "execution_count": 49,
      "metadata": {},
      "outputs": [
        {
          "data": {
            "text/html": [
              "<div>\n",
              "<style scoped>\n",
              "    .dataframe tbody tr th:only-of-type {\n",
              "        vertical-align: middle;\n",
              "    }\n",
              "\n",
              "    .dataframe tbody tr th {\n",
              "        vertical-align: top;\n",
              "    }\n",
              "\n",
              "    .dataframe thead th {\n",
              "        text-align: right;\n",
              "    }\n",
              "</style>\n",
              "<table border=\"1\" class=\"dataframe\">\n",
              "  <thead>\n",
              "    <tr style=\"text-align: right;\">\n",
              "      <th></th>\n",
              "      <th>Alcohol</th>\n",
              "      <th>Pregnancy</th>\n",
              "      <th>Breast feeding</th>\n",
              "      <th>Driving</th>\n",
              "      <th>Kidney</th>\n",
              "      <th>Liver</th>\n",
              "    </tr>\n",
              "  </thead>\n",
              "  <tbody>\n",
              "    <tr>\n",
              "      <th>0</th>\n",
              "      <td>caution</td>\n",
              "      <td>caution</td>\n",
              "      <td>no_impact</td>\n",
              "      <td>no_impact</td>\n",
              "      <td>no_impact</td>\n",
              "      <td>no_impact</td>\n",
              "    </tr>\n",
              "    <tr>\n",
              "      <th>1</th>\n",
              "      <td>caution</td>\n",
              "      <td>caution</td>\n",
              "      <td>no_impact</td>\n",
              "      <td>no_impact</td>\n",
              "      <td>no_impact</td>\n",
              "      <td>no_impact</td>\n",
              "    </tr>\n",
              "    <tr>\n",
              "      <th>2</th>\n",
              "      <td>caution</td>\n",
              "      <td>caution</td>\n",
              "      <td>no_impact</td>\n",
              "      <td>no_impact</td>\n",
              "      <td>no_impact</td>\n",
              "      <td>no_impact</td>\n",
              "    </tr>\n",
              "    <tr>\n",
              "      <th>3</th>\n",
              "      <td>caution</td>\n",
              "      <td>caution</td>\n",
              "      <td>no_impact</td>\n",
              "      <td>no_impact</td>\n",
              "      <td>no_impact</td>\n",
              "      <td>no_impact</td>\n",
              "    </tr>\n",
              "    <tr>\n",
              "      <th>4</th>\n",
              "      <td>consult your doctor</td>\n",
              "      <td>consult your doctor</td>\n",
              "      <td>unsafe</td>\n",
              "      <td>unsafe</td>\n",
              "      <td>safe if prescribed</td>\n",
              "      <td>caution</td>\n",
              "    </tr>\n",
              "  </tbody>\n",
              "</table>\n",
              "</div>"
            ],
            "text/plain": [
              "               Alcohol            Pregnancy Breast feeding    Driving  \\\n",
              "0              caution              caution      no_impact  no_impact   \n",
              "1              caution              caution      no_impact  no_impact   \n",
              "2              caution              caution      no_impact  no_impact   \n",
              "3              caution              caution      no_impact  no_impact   \n",
              "4  consult your doctor  consult your doctor         unsafe     unsafe   \n",
              "\n",
              "               Kidney      Liver  \n",
              "0           no_impact  no_impact  \n",
              "1           no_impact  no_impact  \n",
              "2           no_impact  no_impact  \n",
              "3           no_impact  no_impact  \n",
              "4  safe if prescribed    caution  "
            ]
          },
          "execution_count": 49,
          "metadata": {},
          "output_type": "execute_result"
        }
      ],
      "source": [
        "df[['Alcohol','Pregnancy','Breast feeding','Driving','Kidney','Liver']].head()"
      ]
    },
    {
      "cell_type": "code",
      "execution_count": 50,
      "metadata": {},
      "outputs": [
        {
          "data": {
            "text/html": [
              "<div>\n",
              "<style scoped>\n",
              "    .dataframe tbody tr th:only-of-type {\n",
              "        vertical-align: middle;\n",
              "    }\n",
              "\n",
              "    .dataframe tbody tr th {\n",
              "        vertical-align: top;\n",
              "    }\n",
              "\n",
              "    .dataframe thead th {\n",
              "        text-align: right;\n",
              "    }\n",
              "</style>\n",
              "<table border=\"1\" class=\"dataframe\">\n",
              "  <thead>\n",
              "    <tr style=\"text-align: right;\">\n",
              "      <th></th>\n",
              "      <th>Name</th>\n",
              "      <th>Uses</th>\n",
              "      <th>Composition</th>\n",
              "      <th>Side_effects</th>\n",
              "      <th>Status</th>\n",
              "    </tr>\n",
              "  </thead>\n",
              "  <tbody>\n",
              "    <tr>\n",
              "      <th>0</th>\n",
              "      <td>Aceloflam Plus Tablet</td>\n",
              "      <td>Pain relief</td>\n",
              "      <td>Aceclofenac (100mg) + Paracetamol (325mg)</td>\n",
              "      <td>[Nausea, Vomiting, Stomach pain/epigastric pai...</td>\n",
              "      <td>sold out</td>\n",
              "    </tr>\n",
              "    <tr>\n",
              "      <th>1</th>\n",
              "      <td>Aceloflam Plus Tablet</td>\n",
              "      <td>Pain relief</td>\n",
              "      <td>Aceclofenac (100mg) + Paracetamol (325mg)</td>\n",
              "      <td>[Nausea, Vomiting, Stomach pain/epigastric pai...</td>\n",
              "      <td>sold out</td>\n",
              "    </tr>\n",
              "    <tr>\n",
              "      <th>2</th>\n",
              "      <td>Aceloflam Plus Tablet</td>\n",
              "      <td>Pain relief</td>\n",
              "      <td>Aceclofenac (100mg) + Paracetamol (325mg)</td>\n",
              "      <td>[Nausea, Vomiting, Stomach pain/epigastric pai...</td>\n",
              "      <td>available</td>\n",
              "    </tr>\n",
              "    <tr>\n",
              "      <th>3</th>\n",
              "      <td>Aceloflam Plus Tablet</td>\n",
              "      <td>Pain relief</td>\n",
              "      <td>Aceclofenac (100mg) + Paracetamol (325mg)</td>\n",
              "      <td>[Nausea, Vomiting, Stomach pain/epigastric pai...</td>\n",
              "      <td>available</td>\n",
              "    </tr>\n",
              "    <tr>\n",
              "      <th>4</th>\n",
              "      <td>Adriamycin 50mg Injection</td>\n",
              "      <td>Cancer</td>\n",
              "      <td>Doxorubicin (Plain) (50mg)</td>\n",
              "      <td>[Vomiting, Allergic reaction, Nausea, Mouth so...</td>\n",
              "      <td>available</td>\n",
              "    </tr>\n",
              "  </tbody>\n",
              "</table>\n",
              "</div>"
            ],
            "text/plain": [
              "                        Name         Uses  \\\n",
              "0      Aceloflam Plus Tablet  Pain relief   \n",
              "1      Aceloflam Plus Tablet  Pain relief   \n",
              "2      Aceloflam Plus Tablet  Pain relief   \n",
              "3      Aceloflam Plus Tablet  Pain relief   \n",
              "4  Adriamycin 50mg Injection       Cancer   \n",
              "\n",
              "                                 Composition  \\\n",
              "0  Aceclofenac (100mg) + Paracetamol (325mg)   \n",
              "1  Aceclofenac (100mg) + Paracetamol (325mg)   \n",
              "2  Aceclofenac (100mg) + Paracetamol (325mg)   \n",
              "3  Aceclofenac (100mg) + Paracetamol (325mg)   \n",
              "4                 Doxorubicin (Plain) (50mg)   \n",
              "\n",
              "                                        Side_effects     Status  \n",
              "0  [Nausea, Vomiting, Stomach pain/epigastric pai...   sold out  \n",
              "1  [Nausea, Vomiting, Stomach pain/epigastric pai...   sold out  \n",
              "2  [Nausea, Vomiting, Stomach pain/epigastric pai...  available  \n",
              "3  [Nausea, Vomiting, Stomach pain/epigastric pai...  available  \n",
              "4  [Vomiting, Allergic reaction, Nausea, Mouth so...  available  "
            ]
          },
          "execution_count": 50,
          "metadata": {},
          "output_type": "execute_result"
        }
      ],
      "source": [
        "df[['Name','Uses','Composition','Side_effects','Status']].head()"
      ]
    },
    {
      "cell_type": "code",
      "execution_count": 51,
      "metadata": {
        "colab": {
          "base_uri": "https://localhost:8080/"
        },
        "id": "hjSjrheIBUUd",
        "outputId": "dd5a3f23-1d29-4549-fa3a-e19d4ce29cf5"
      },
      "outputs": [
        {
          "data": {
            "text/plain": [
              "(34284, 16)"
            ]
          },
          "execution_count": 51,
          "metadata": {},
          "output_type": "execute_result"
        }
      ],
      "source": [
        "df.shape"
      ]
    },
    {
      "cell_type": "code",
      "execution_count": 52,
      "metadata": {},
      "outputs": [
        {
          "data": {
            "text/plain": [
              "0"
            ]
          },
          "execution_count": 52,
          "metadata": {},
          "output_type": "execute_result"
        }
      ],
      "source": [
        "missing_names = df[df['Name'].isnull()]\n",
        "# นับจำนวนของ missing value ในคอลัมน์ 'Name'\n",
        "count_missing_names = missing_names.shape[0]\n",
        "count_missing_names"
      ]
    },
    {
      "cell_type": "markdown",
      "metadata": {},
      "source": [
        "Data Visualization"
      ]
    },
    {
      "cell_type": "code",
      "execution_count": 53,
      "metadata": {},
      "outputs": [
        {
          "name": "stdout",
          "output_type": "stream",
          "text": [
            "<class 'pandas.core.frame.DataFrame'>\n",
            "RangeIndex: 34284 entries, 0 to 34283\n",
            "Data columns (total 16 columns):\n",
            " #   Column          Non-Null Count  Dtype  \n",
            "---  ------          --------------  -----  \n",
            " 0   Name            34284 non-null  object \n",
            " 1   Uses            34121 non-null  object \n",
            " 2   Price           24903 non-null  object \n",
            " 3   Composition     34284 non-null  object \n",
            " 4   Side_effects    34284 non-null  object \n",
            " 5   Alcohol         34284 non-null  object \n",
            " 6   Pregnancy       34284 non-null  object \n",
            " 7   Breast feeding  34284 non-null  object \n",
            " 8   Driving         34284 non-null  object \n",
            " 9   Kidney          34284 non-null  object \n",
            " 10  Liver           34284 non-null  object \n",
            " 11  How_to_use      34251 non-null  object \n",
            " 12  Status          34284 non-null  object \n",
            " 13  manufacturer    34284 non-null  object \n",
            " 14  Unit Quantity   20984 non-null  float64\n",
            " 15  Unit Type       32254 non-null  object \n",
            "dtypes: float64(1), object(15)\n",
            "memory usage: 4.2+ MB\n"
          ]
        }
      ],
      "source": [
        "df.info()"
      ]
    },
    {
      "cell_type": "code",
      "execution_count": 54,
      "metadata": {},
      "outputs": [
        {
          "name": "stdout",
          "output_type": "stream",
          "text": [
            "จำนวนค่า NaN ในคอลัมน์ Price คือ: 9381\n"
          ]
        }
      ],
      "source": [
        "count_nan = df['Price'].isnull().sum()\n",
        "print(f\"จำนวนค่า NaN ในคอลัมน์ Price คือ: {count_nan}\")"
      ]
    },
    {
      "cell_type": "code",
      "execution_count": 55,
      "metadata": {},
      "outputs": [],
      "source": [
        "df['Price'].fillna(method='ffill', inplace=True)\n",
        "df['Price'] = pd.to_numeric(df['Price'], errors='coerce')  # แปลงเป็นตัวเลข (หากเป็นข้อความ)\n",
        "df['Price'] = df['Price'].round(0).astype(int)  # แปลงเป็นจำนวนเต็ม"
      ]
    },
    {
      "cell_type": "code",
      "execution_count": 56,
      "metadata": {},
      "outputs": [
        {
          "name": "stdout",
          "output_type": "stream",
          "text": [
            "จำนวนค่า NaN ในคอลัมน์ Price คือ: 0\n"
          ]
        }
      ],
      "source": [
        "count_nan = df['Price'].isnull().sum()\n",
        "print(f\"จำนวนค่า NaN ในคอลัมน์ Price คือ: {count_nan}\")"
      ]
    },
    {
      "cell_type": "code",
      "execution_count": 57,
      "metadata": {},
      "outputs": [
        {
          "name": "stdout",
          "output_type": "stream",
          "text": [
            "ค่าสูงสุดของ Price คือ: 367361\n"
          ]
        }
      ],
      "source": [
        "max_price = df['Price'].max()\n",
        "print(\"ค่าสูงสุดของ Price คือ:\", max_price)"
      ]
    },
    {
      "cell_type": "code",
      "execution_count": 58,
      "metadata": {},
      "outputs": [],
      "source": [
        "df['Alcohol'].replace(['caution', 'consult your doctor'], 'unsafe', inplace=True)\n",
        "df['Alcohol'].replace(['no_impact', 'safe','safe if prescribed'], 'safe', inplace=True)\n",
        "\n",
        "df['Pregnancy'].replace(['caution', 'consult your doctor'], 'unsafe', inplace=True)\n",
        "df['Pregnancy'].replace(['no_impact','safe if prescribed'], 'safe', inplace=True)\n",
        "\n",
        "df['Breast feeding'].replace(['caution', 'consult your doctor'], 'unsafe', inplace=True)\n",
        "df['Breast feeding'].replace(['no_impact','safe if prescribed'], 'safe', inplace=True)\n",
        "\n",
        "df['Driving'].replace(['caution', 'consult your doctor'], 'unsafe', inplace=True)\n",
        "df['Driving'].replace(['no_impact','safe if prescribed','not relevant'], 'safe', inplace=True)\n",
        "\n",
        "df['Kidney'].replace(['caution', 'consult your doctor'], 'unsafe', inplace=True)\n",
        "df['Kidney'].replace(['no_impact','safe if prescribed'], 'safe', inplace=True)\n",
        "\n",
        "df['Liver'].replace(['caution', 'consult your doctor'], 'unsafe', inplace=True)\n",
        "df['Liver'].replace(['no_impact','safe if prescribed'], 'safe', inplace=True)"
      ]
    },
    {
      "cell_type": "code",
      "execution_count": 59,
      "metadata": {},
      "outputs": [
        {
          "data": {
            "image/png": "[encoded data removed]",
            "text/plain": [
              "<Figure size 1500x1000 with 6 Axes>"
            ]
          },
          "metadata": {},
          "output_type": "display_data"
        }
      ],
      "source": [
        "columns_to_plot = ['Alcohol', 'Pregnancy', 'Breast feeding', 'Driving', 'Kidney', 'Liver']\n",
        "\n",
        "num_cols = 3\n",
        "num_rows = -(-len(columns_to_plot) // num_cols)  \n",
        "fig, axes = plt.subplots(nrows=num_rows, ncols=num_cols, figsize=(15, 5 * num_rows))\n",
        "axes = axes.flatten()\n",
        "\n",
        "for i, col in enumerate(columns_to_plot):\n",
        "    col_counts = df[col].value_counts()\n",
        "    \n",
        "    col_counts.sort_values().plot(kind='barh', color='skyblue', ax=axes[i])\n",
        "    axes[i].set_title(f' Number of {col} ')\n",
        "    axes[i].set_xlabel('Count')\n",
        "    axes[i].set_ylabel(col)\n",
        "\n",
        "for j in range(len(columns_to_plot), num_cols * num_rows):\n",
        "    axes[j].axis('off')\n",
        "\n",
        "plt.tight_layout()\n",
        "plt.show()\n"
      ]
    },
    {
      "cell_type": "markdown",
      "metadata": {},
      "source": [
        "Feature Engineer"
      ]
    },
    {
      "cell_type": "code",
      "execution_count": 60,
      "metadata": {},
      "outputs": [],
      "source": [
        "df = df.rename(columns={'manufacturer': 'Manufacturer'})"
      ]
    },
    {
      "cell_type": "code",
      "execution_count": 61,
      "metadata": {},
      "outputs": [],
      "source": [
        "df['Unit'] = df['Name'].copy()"
      ]
    },
    {
      "cell_type": "code",
      "execution_count": 62,
      "metadata": {},
      "outputs": [],
      "source": [
        "new_order = ['Name','Unit Quantity','Unit Type', 'Manufacturer', 'Price', 'Composition','Uses', 'Side_effects','Alcohol','Pregnancy','Breast feeding','Driving','Kidney','Liver','Status']\n",
        "df = df.reindex(columns=new_order)"
      ]
    },
    {
      "cell_type": "code",
      "execution_count": 63,
      "metadata": {},
      "outputs": [
        {
          "data": {
            "text/html": [
              "<div>\n",
              "<style scoped>\n",
              "    .dataframe tbody tr th:only-of-type {\n",
              "        vertical-align: middle;\n",
              "    }\n",
              "\n",
              "    .dataframe tbody tr th {\n",
              "        vertical-align: top;\n",
              "    }\n",
              "\n",
              "    .dataframe thead th {\n",
              "        text-align: right;\n",
              "    }\n",
              "</style>\n",
              "<table border=\"1\" class=\"dataframe\">\n",
              "  <thead>\n",
              "    <tr style=\"text-align: right;\">\n",
              "      <th></th>\n",
              "      <th>Name</th>\n",
              "      <th>Unit Quantity</th>\n",
              "      <th>Unit Type</th>\n",
              "      <th>Manufacturer</th>\n",
              "      <th>Price</th>\n",
              "      <th>Composition</th>\n",
              "      <th>Uses</th>\n",
              "      <th>Side_effects</th>\n",
              "      <th>Alcohol</th>\n",
              "      <th>Pregnancy</th>\n",
              "      <th>Breast feeding</th>\n",
              "      <th>Driving</th>\n",
              "      <th>Kidney</th>\n",
              "      <th>Liver</th>\n",
              "      <th>Status</th>\n",
              "    </tr>\n",
              "  </thead>\n",
              "  <tbody>\n",
              "    <tr>\n",
              "      <th>0</th>\n",
              "      <td>Aceloflam Plus Tablet</td>\n",
              "      <td>NaN</td>\n",
              "      <td>Tablet</td>\n",
              "      <td>Alkem Laboratories Ltd</td>\n",
              "      <td>86</td>\n",
              "      <td>Aceclofenac (100mg) + Paracetamol (325mg)</td>\n",
              "      <td>Pain relief</td>\n",
              "      <td>[Nausea, Vomiting, Stomach pain/epigastric pai...</td>\n",
              "      <td>unsafe</td>\n",
              "      <td>unsafe</td>\n",
              "      <td>safe</td>\n",
              "      <td>safe</td>\n",
              "      <td>safe</td>\n",
              "      <td>safe</td>\n",
              "      <td>sold out</td>\n",
              "    </tr>\n",
              "    <tr>\n",
              "      <th>1</th>\n",
              "      <td>Aceloflam Plus Tablet</td>\n",
              "      <td>NaN</td>\n",
              "      <td>Tablet</td>\n",
              "      <td>Alkem Laboratories Ltd</td>\n",
              "      <td>86</td>\n",
              "      <td>Aceclofenac (100mg) + Paracetamol (325mg)</td>\n",
              "      <td>Pain relief</td>\n",
              "      <td>[Nausea, Vomiting, Stomach pain/epigastric pai...</td>\n",
              "      <td>unsafe</td>\n",
              "      <td>unsafe</td>\n",
              "      <td>safe</td>\n",
              "      <td>safe</td>\n",
              "      <td>safe</td>\n",
              "      <td>safe</td>\n",
              "      <td>sold out</td>\n",
              "    </tr>\n",
              "    <tr>\n",
              "      <th>2</th>\n",
              "      <td>Aceloflam Plus Tablet</td>\n",
              "      <td>NaN</td>\n",
              "      <td>Tablet</td>\n",
              "      <td>Alkem Laboratories Ltd</td>\n",
              "      <td>160</td>\n",
              "      <td>Aceclofenac (100mg) + Paracetamol (325mg)</td>\n",
              "      <td>Pain relief</td>\n",
              "      <td>[Nausea, Vomiting, Stomach pain/epigastric pai...</td>\n",
              "      <td>unsafe</td>\n",
              "      <td>unsafe</td>\n",
              "      <td>safe</td>\n",
              "      <td>safe</td>\n",
              "      <td>safe</td>\n",
              "      <td>safe</td>\n",
              "      <td>available</td>\n",
              "    </tr>\n",
              "    <tr>\n",
              "      <th>3</th>\n",
              "      <td>Aceloflam Plus Tablet</td>\n",
              "      <td>NaN</td>\n",
              "      <td>Tablet</td>\n",
              "      <td>Alkem Laboratories Ltd</td>\n",
              "      <td>160</td>\n",
              "      <td>Aceclofenac (100mg) + Paracetamol (325mg)</td>\n",
              "      <td>Pain relief</td>\n",
              "      <td>[Nausea, Vomiting, Stomach pain/epigastric pai...</td>\n",
              "      <td>unsafe</td>\n",
              "      <td>unsafe</td>\n",
              "      <td>safe</td>\n",
              "      <td>safe</td>\n",
              "      <td>safe</td>\n",
              "      <td>safe</td>\n",
              "      <td>available</td>\n",
              "    </tr>\n",
              "    <tr>\n",
              "      <th>4</th>\n",
              "      <td>Adriamycin 50mg Injection</td>\n",
              "      <td>50.0</td>\n",
              "      <td>Injection</td>\n",
              "      <td>Pfizer Ltd</td>\n",
              "      <td>282</td>\n",
              "      <td>Doxorubicin (Plain) (50mg)</td>\n",
              "      <td>Cancer</td>\n",
              "      <td>[Vomiting, Allergic reaction, Nausea, Mouth so...</td>\n",
              "      <td>unsafe</td>\n",
              "      <td>unsafe</td>\n",
              "      <td>unsafe</td>\n",
              "      <td>unsafe</td>\n",
              "      <td>safe</td>\n",
              "      <td>unsafe</td>\n",
              "      <td>available</td>\n",
              "    </tr>\n",
              "    <tr>\n",
              "      <th>...</th>\n",
              "      <td>...</td>\n",
              "      <td>...</td>\n",
              "      <td>...</td>\n",
              "      <td>...</td>\n",
              "      <td>...</td>\n",
              "      <td>...</td>\n",
              "      <td>...</td>\n",
              "      <td>...</td>\n",
              "      <td>...</td>\n",
              "      <td>...</td>\n",
              "      <td>...</td>\n",
              "      <td>...</td>\n",
              "      <td>...</td>\n",
              "      <td>...</td>\n",
              "      <td>...</td>\n",
              "    </tr>\n",
              "    <tr>\n",
              "      <th>34279</th>\n",
              "      <td>Yees-D Capsule SR</td>\n",
              "      <td>NaN</td>\n",
              "      <td>Tablet</td>\n",
              "      <td>Alkem Laboratories Ltd</td>\n",
              "      <td>149</td>\n",
              "      <td>Domperidone (30mg) + Esomeprazole (40mg)</td>\n",
              "      <td>Treatment of Gastroesophageal reflux disease (...</td>\n",
              "      <td>[Diarrhea, Flatulence, Stomach pain, Dryness i...</td>\n",
              "      <td>unsafe</td>\n",
              "      <td>unsafe</td>\n",
              "      <td>safe</td>\n",
              "      <td>unsafe</td>\n",
              "      <td>unsafe</td>\n",
              "      <td>unsafe</td>\n",
              "      <td>available</td>\n",
              "    </tr>\n",
              "    <tr>\n",
              "      <th>34280</th>\n",
              "      <td>Yamini Tablet</td>\n",
              "      <td>NaN</td>\n",
              "      <td>Tablet</td>\n",
              "      <td>Lupin Ltd</td>\n",
              "      <td>149</td>\n",
              "      <td>Ethinyl Estradiol (0.03mg) + Drospirenone (3mg)</td>\n",
              "      <td>Hormone replacement therapy Post menopausal os...</td>\n",
              "      <td>[Headache, Nausea, Breast tenderness, Uterine ...</td>\n",
              "      <td>unsafe</td>\n",
              "      <td>unsafe</td>\n",
              "      <td>unsafe</td>\n",
              "      <td>safe</td>\n",
              "      <td>unsafe</td>\n",
              "      <td>unsafe</td>\n",
              "      <td>available</td>\n",
              "    </tr>\n",
              "    <tr>\n",
              "      <th>34281</th>\n",
              "      <td>Yasmin Tablet</td>\n",
              "      <td>500.0</td>\n",
              "      <td>Tablet</td>\n",
              "      <td>Bayer Zydus Pharma Pvt Ltd</td>\n",
              "      <td>149</td>\n",
              "      <td>Ethinyl Estradiol (0.03mg) + Drospirenone (3mg)</td>\n",
              "      <td>Hormone replacement therapy Post menopausal os...</td>\n",
              "      <td>[Headache, Nausea, Breast tenderness, Uterine ...</td>\n",
              "      <td>unsafe</td>\n",
              "      <td>unsafe</td>\n",
              "      <td>unsafe</td>\n",
              "      <td>safe</td>\n",
              "      <td>unsafe</td>\n",
              "      <td>unsafe</td>\n",
              "      <td>available</td>\n",
              "    </tr>\n",
              "    <tr>\n",
              "      <th>34282</th>\n",
              "      <td>Zita-Piomet 500 Tablet SR</td>\n",
              "      <td>NaN</td>\n",
              "      <td>Capsule</td>\n",
              "      <td>Glenmark Pharmaceuticals Ltd</td>\n",
              "      <td>137</td>\n",
              "      <td>Metformin (500mg) + Pioglitazone (15mg) + Tene...</td>\n",
              "      <td>Treatment of Type 2 diabetes mellitus</td>\n",
              "      <td>[Hypoglycemia (low blood glucose level), Const...</td>\n",
              "      <td>unsafe</td>\n",
              "      <td>unsafe</td>\n",
              "      <td>unsafe</td>\n",
              "      <td>unsafe</td>\n",
              "      <td>unsafe</td>\n",
              "      <td>safe</td>\n",
              "      <td>sold out</td>\n",
              "    </tr>\n",
              "    <tr>\n",
              "      <th>34283</th>\n",
              "      <td>Zebi-DSR Capsule</td>\n",
              "      <td>NaN</td>\n",
              "      <td>NaN</td>\n",
              "      <td>Zeaxa Healthcare Pvt Ltd</td>\n",
              "      <td>77</td>\n",
              "      <td>Domperidone (30mg) + Rabeprazole (20mg)</td>\n",
              "      <td>Treatment of Gastroesophageal reflux disease (...</td>\n",
              "      <td>[Diarrhea, Stomach pain, Dryness in mouth, Hea...</td>\n",
              "      <td>unsafe</td>\n",
              "      <td>unsafe</td>\n",
              "      <td>unsafe</td>\n",
              "      <td>unsafe</td>\n",
              "      <td>unsafe</td>\n",
              "      <td>unsafe</td>\n",
              "      <td>sold out</td>\n",
              "    </tr>\n",
              "  </tbody>\n",
              "</table>\n",
              "<p>34284 rows × 15 columns</p>\n",
              "</div>"
            ],
            "text/plain": [
              "                            Name  Unit Quantity  Unit Type  \\\n",
              "0          Aceloflam Plus Tablet            NaN     Tablet   \n",
              "1          Aceloflam Plus Tablet            NaN     Tablet   \n",
              "2          Aceloflam Plus Tablet            NaN     Tablet   \n",
              "3          Aceloflam Plus Tablet            NaN     Tablet   \n",
              "4      Adriamycin 50mg Injection           50.0  Injection   \n",
              "...                          ...            ...        ...   \n",
              "34279          Yees-D Capsule SR            NaN     Tablet   \n",
              "34280              Yamini Tablet            NaN     Tablet   \n",
              "34281              Yasmin Tablet          500.0     Tablet   \n",
              "34282  Zita-Piomet 500 Tablet SR            NaN    Capsule   \n",
              "34283           Zebi-DSR Capsule            NaN        NaN   \n",
              "\n",
              "                       Manufacturer  Price  \\\n",
              "0            Alkem Laboratories Ltd     86   \n",
              "1            Alkem Laboratories Ltd     86   \n",
              "2            Alkem Laboratories Ltd    160   \n",
              "3            Alkem Laboratories Ltd    160   \n",
              "4                        Pfizer Ltd    282   \n",
              "...                             ...    ...   \n",
              "34279        Alkem Laboratories Ltd    149   \n",
              "34280                     Lupin Ltd    149   \n",
              "34281    Bayer Zydus Pharma Pvt Ltd    149   \n",
              "34282  Glenmark Pharmaceuticals Ltd    137   \n",
              "34283      Zeaxa Healthcare Pvt Ltd     77   \n",
              "\n",
              "                                             Composition  \\\n",
              "0              Aceclofenac (100mg) + Paracetamol (325mg)   \n",
              "1              Aceclofenac (100mg) + Paracetamol (325mg)   \n",
              "2              Aceclofenac (100mg) + Paracetamol (325mg)   \n",
              "3              Aceclofenac (100mg) + Paracetamol (325mg)   \n",
              "4                             Doxorubicin (Plain) (50mg)   \n",
              "...                                                  ...   \n",
              "34279           Domperidone (30mg) + Esomeprazole (40mg)   \n",
              "34280    Ethinyl Estradiol (0.03mg) + Drospirenone (3mg)   \n",
              "34281    Ethinyl Estradiol (0.03mg) + Drospirenone (3mg)   \n",
              "34282  Metformin (500mg) + Pioglitazone (15mg) + Tene...   \n",
              "34283            Domperidone (30mg) + Rabeprazole (20mg)   \n",
              "\n",
              "                                                    Uses  \\\n",
              "0                                            Pain relief   \n",
              "1                                            Pain relief   \n",
              "2                                            Pain relief   \n",
              "3                                            Pain relief   \n",
              "4                                                 Cancer   \n",
              "...                                                  ...   \n",
              "34279  Treatment of Gastroesophageal reflux disease (...   \n",
              "34280  Hormone replacement therapy Post menopausal os...   \n",
              "34281  Hormone replacement therapy Post menopausal os...   \n",
              "34282              Treatment of Type 2 diabetes mellitus   \n",
              "34283  Treatment of Gastroesophageal reflux disease (...   \n",
              "\n",
              "                                            Side_effects Alcohol Pregnancy  \\\n",
              "0      [Nausea, Vomiting, Stomach pain/epigastric pai...  unsafe    unsafe   \n",
              "1      [Nausea, Vomiting, Stomach pain/epigastric pai...  unsafe    unsafe   \n",
              "2      [Nausea, Vomiting, Stomach pain/epigastric pai...  unsafe    unsafe   \n",
              "3      [Nausea, Vomiting, Stomach pain/epigastric pai...  unsafe    unsafe   \n",
              "4      [Vomiting, Allergic reaction, Nausea, Mouth so...  unsafe    unsafe   \n",
              "...                                                  ...     ...       ...   \n",
              "34279  [Diarrhea, Flatulence, Stomach pain, Dryness i...  unsafe    unsafe   \n",
              "34280  [Headache, Nausea, Breast tenderness, Uterine ...  unsafe    unsafe   \n",
              "34281  [Headache, Nausea, Breast tenderness, Uterine ...  unsafe    unsafe   \n",
              "34282  [Hypoglycemia (low blood glucose level), Const...  unsafe    unsafe   \n",
              "34283  [Diarrhea, Stomach pain, Dryness in mouth, Hea...  unsafe    unsafe   \n",
              "\n",
              "      Breast feeding Driving  Kidney   Liver     Status  \n",
              "0               safe    safe    safe    safe   sold out  \n",
              "1               safe    safe    safe    safe   sold out  \n",
              "2               safe    safe    safe    safe  available  \n",
              "3               safe    safe    safe    safe  available  \n",
              "4             unsafe  unsafe    safe  unsafe  available  \n",
              "...              ...     ...     ...     ...        ...  \n",
              "34279           safe  unsafe  unsafe  unsafe  available  \n",
              "34280         unsafe    safe  unsafe  unsafe  available  \n",
              "34281         unsafe    safe  unsafe  unsafe  available  \n",
              "34282         unsafe  unsafe  unsafe    safe   sold out  \n",
              "34283         unsafe  unsafe  unsafe  unsafe   sold out  \n",
              "\n",
              "[34284 rows x 15 columns]"
            ]
          },
          "execution_count": 63,
          "metadata": {},
          "output_type": "execute_result"
        }
      ],
      "source": [
        "df"
      ]
    },
    {
      "cell_type": "code",
      "execution_count": 64,
      "metadata": {},
      "outputs": [
        {
          "data": {
            "text/plain": [
              "Name                  0\n",
              "Unit Quantity     13300\n",
              "Unit Type          2030\n",
              "Manufacturer          0\n",
              "Price                 0\n",
              "Composition           0\n",
              "Uses                163\n",
              "Side_effects          0\n",
              "Alcohol               0\n",
              "Pregnancy             0\n",
              "Breast feeding        0\n",
              "Driving               0\n",
              "Kidney                0\n",
              "Liver                 0\n",
              "Status                0\n",
              "dtype: int64"
            ]
          },
          "execution_count": 64,
          "metadata": {},
          "output_type": "execute_result"
        }
      ],
      "source": [
        "missing_values = df.isnull().sum()\n",
        "missing_values"
      ]
    },
    {
      "cell_type": "markdown",
      "metadata": {
        "id": "zKBl0r3QBUUq"
      },
      "source": [
        "Feature Vectorization"
      ]
    },
    {
      "cell_type": "code",
      "execution_count": 65,
      "metadata": {
        "id": "2DnVylJ1BUUq"
      },
      "outputs": [],
      "source": [
        "from sklearn.feature_extraction.text import TfidfVectorizer\n",
        "tfidf = TfidfVectorizer(max_features=20000, stop_words='english')"
      ]
    },
    {
      "cell_type": "code",
      "execution_count": 66,
      "metadata": {
        "id": "ZSuQD0GNBUUq"
      },
      "outputs": [],
      "source": [
        "selected_columns = df[['Uses','Composition', 'Side_effects','Alcohol','Pregnancy','Breast feeding','Driving','Kidney','Liver','Unit Type']]\n",
        "text_data = selected_columns.apply(lambda row: ' '.join(row.astype(str)), axis=1)"
      ]
    },
    {
      "cell_type": "code",
      "execution_count": 67,
      "metadata": {
        "id": "4J22jni7BUUq"
      },
      "outputs": [
        {
          "data": {
            "text/plain": [
              "(34284, 3519)"
            ]
          },
          "execution_count": 67,
          "metadata": {},
          "output_type": "execute_result"
        }
      ],
      "source": [
        "vector = tfidf.fit_transform(text_data).toarray()\n",
        "vector.shape"
      ]
    },
    {
      "cell_type": "code",
      "execution_count": 68,
      "metadata": {},
      "outputs": [
        {
          "data": {
            "text/plain": [
              "Name               object\n",
              "Unit Quantity     float64\n",
              "Unit Type          object\n",
              "Manufacturer       object\n",
              "Price               int32\n",
              "Composition        object\n",
              "Uses               object\n",
              "Side_effects       object\n",
              "Alcohol            object\n",
              "Pregnancy          object\n",
              "Breast feeding     object\n",
              "Driving            object\n",
              "Kidney             object\n",
              "Liver              object\n",
              "Status             object\n",
              "dtype: object"
            ]
          },
          "execution_count": 68,
          "metadata": {},
          "output_type": "execute_result"
        }
      ],
      "source": [
        "df.dtypes"
      ]
    },
    {
      "cell_type": "code",
      "execution_count": 69,
      "metadata": {},
      "outputs": [],
      "source": [
        "df['Unit Quantity'].fillna(0, inplace=True)\n",
        "df['Unit Quantity'] = df['Unit Quantity'].astype('int64')\n",
        "df['Price'] = df['Price'].astype('int64')"
      ]
    },
    {
      "cell_type": "markdown",
      "metadata": {
        "id": "EWepeCrjBUUq"
      },
      "source": [
        "cosine_similarity"
      ]
    },
    {
      "cell_type": "code",
      "execution_count": 70,
      "metadata": {
        "id": "0Iwn_g6FBUUr"
      },
      "outputs": [
        {
          "data": {
            "text/plain": [
              "(34284, 34284)"
            ]
          },
          "execution_count": 70,
          "metadata": {},
          "output_type": "execute_result"
        }
      ],
      "source": [
        "similarity = cosine_similarity(vector)\n",
        "similarity.shape"
      ]
    },
    {
      "cell_type": "markdown",
      "metadata": {
        "id": "nL8XBtDeBUUr"
      },
      "source": [
        "Recommendation system"
      ]
    },
    {
      "cell_type": "code",
      "execution_count": 71,
      "metadata": {},
      "outputs": [],
      "source": [
        "import jellyfish"
      ]
    },
    {
      "cell_type": "code",
      "execution_count": 72,
      "metadata": {},
      "outputs": [
        {
          "name": "stdout",
          "output_type": "stream",
          "text": [
            "ยาตัวที่ 1\n",
            "Input: S-Methiwave 200 Tablet\n",
            "New Nusam 200 Tablet - Similarity Score: 1.0 - Price: 190 ฿\n",
            "S-Methiwave 200 Tablet - Similarity Score: 1.0 - Price: 110 ฿\n",
            "New Adesam 200 Tablet - Similarity Score: 0.96 - Price: 146 ฿\n",
            "Adefresh 400 Tablet - Similarity Score: 0.91 - Price: 662 ฿\n",
            "Cirrosam 400 Tablet - Similarity Score: 0.91 - Price: 505 ฿\n",
            "\n",
            "\n",
            "ยาตัวที่ 2\n",
            "Input: Anfoe 6000IU Injection\n",
            "Epofit 6000IU Injection - Similarity Score: 1.0 - Price: 134 ฿\n",
            "Wepox Pen Reusable Injection - Similarity Score: 0.95 - Price: 398 ฿\n",
            "Epofit 5000IU Injection - Similarity Score: 0.94 - Price: 219 ฿\n",
            "Wepox 5000IU Injection - Similarity Score: 0.94 - Price: 80 ฿\n",
            "Anfoe 10000IU Injection - Similarity Score: 0.94 - Price: 2072 ฿\n",
            "\n",
            "\n",
            "ยาตัวที่ 3\n",
            "Input: Atchthii\n",
            "AZR Tablet - Similarity Score: 1.0 - Price: 422 ฿\n",
            "Azathioprine 50mg Tablet - Similarity Score: 1.0 - Price: 96 ฿\n",
            "Azoran Tablet - Similarity Score: 1.0 - Price: 225 ฿\n",
            "Imuza Tablet - Similarity Score: 1.0 - Price: 100 ฿\n",
            "Immugo Tablet - Similarity Score: 1.0 - Price: 166 ฿\n",
            "\n",
            "\n"
          ]
        }
      ],
      "source": [
        "def recommedation_system_cosin(medicine, side_effects, liversafety, price_limit, df, similarity):\n",
        "    user_input = f'{medicine} {\" \".join(side_effects)} {\" \".join(liversafety)}' if side_effects or liversafety else medicine\n",
        "\n",
        "    jelly_matches = [(name, jellyfish.jaro_winkler_similarity(user_input, name)) for name in df['Name'].values]\n",
        "    closest_match = max(jelly_matches, key=lambda x: x[1])[0]\n",
        "\n",
        "    if closest_match in df['Name'].values:\n",
        "        med_index = df[df['Name'] == closest_match].index[0]\n",
        "        distances = similarity[med_index]\n",
        "        med_list = sorted(list(enumerate(distances)), reverse=True, key=lambda x: x[1])[1:11]\n",
        "        recommended_medicine = []\n",
        "\n",
        "        for i in med_list:\n",
        "            med_index = i[0]\n",
        "            similarity_score = round(i[1], 2)\n",
        "            med_name = df.iloc[med_index]['Name']\n",
        "            med_kidneysafety = df.iloc[med_index]['Kidney']  \n",
        "            med_liversafety = df.iloc[med_index]['Liver']  \n",
        "\n",
        "            side_effect_matches = [side_effect for side_effect in side_effects if side_effect in med_kidneysafety]\n",
        "            liversafety_matches = [liver for liver in liversafety if liver in med_liversafety]\n",
        "\n",
        "            side_effects_match = side_effect_matches == side_effects\n",
        "            liversafety_match = liversafety_matches == liversafety\n",
        "\n",
        "            if (liversafety and not side_effects) or (side_effects and not liversafety):\n",
        "                if liversafety and liversafety_match:\n",
        "                    recommended_medicine.append((med_name, similarity_score))\n",
        "            elif side_effects and side_effects_match:\n",
        "                recommended_medicine.append((med_name, similarity_score))\n",
        "\n",
        "        # ตรวจสอบและเลือกยาที่ไม่เกินงบประมาณที่กำหนด (ในกรณีที่ price_limit ไม่ใช่ None)\n",
        "        if price_limit is not None:\n",
        "            recommended_within_budget = [\n",
        "                (med, score, df[df['Name'] == med]['Price'].values[0])\n",
        "                for med, score in recommended_medicine\n",
        "                if df[df['Name'] == med]['Price'].values[0] is not None and df[df['Name'] == med]['Price'].values[0] <= price_limit\n",
        "            ]\n",
        "        else:\n",
        "            recommended_within_budget = [\n",
        "                (med, score, df[df['Name'] == med]['Price'].values[0])\n",
        "                for med, score in recommended_medicine\n",
        "            ]  # ถ้า price_limit เป็น None ให้เลือกยาทั้งหมด\n",
        "\n",
        "        # เลือกยาที่ดีที่สุดโดยดูความคล้ายคลึงและไม่เกินงบประมาณ\n",
        "        filtered_medicine = []\n",
        "        already_added = set()\n",
        "        for med, score, price in recommended_within_budget:\n",
        "            if med not in already_added:\n",
        "                filtered_medicine.append((med, score, price))\n",
        "                already_added.add(med)\n",
        "\n",
        "        return filtered_medicine[:5]  # คืนค่ายาที่ดีที่สุดไม่เกิน 10 ตัว\n",
        "\n",
        "\n",
        "def print_recommendations(user_input, recommendations):\n",
        "    \n",
        "    print(f\"Input: {user_input[0]}\")\n",
        "    if recommendations:\n",
        "        for med, score, price in recommendations:\n",
        "            print(f\"{med} - Similarity Score: {score} - Price: {price} ฿\")\n",
        "    else:\n",
        "        print(\"No recommendations within the budget.\")\n",
        "    print(\"\\n\")\n",
        "\n",
        "user_input = [\n",
        "    ('S-Methiwave 200 Tablet', [''], [''], None),\n",
        "    ('Anfoe 6000IU Injection', [''], [''], None),\n",
        "    ('Atchthii', [''], [''], None)\n",
        "]\n",
        "\n",
        "recommendations = [recommedation_system_cosin(*ui, df, similarity) for ui in user_input]\n",
        "\n",
        "for idx, rec in enumerate(recommendations, start=1):\n",
        "    print(f\"ยาตัวที่ {idx}\")\n",
        "    print_recommendations(user_input[idx - 1], rec)"
      ]
    },
    {
      "cell_type": "code",
      "execution_count": 73,
      "metadata": {},
      "outputs": [
        {
          "data": {
            "text/plain": [
              "[[('New Nusam 200 Tablet', 1.0, 190),\n",
              "  ('S-Methiwave 200 Tablet', 1.0, 110),\n",
              "  ('New Adesam 200 Tablet', 0.96, 146),\n",
              "  ('Adefresh 400 Tablet', 0.91, 662),\n",
              "  ('Cirrosam 400 Tablet', 0.91, 505)],\n",
              " [('Epofit 6000IU Injection', 1.0, 134),\n",
              "  ('Wepox Pen Reusable Injection', 0.95, 398),\n",
              "  ('Epofit 5000IU Injection', 0.94, 219),\n",
              "  ('Wepox 5000IU Injection', 0.94, 80),\n",
              "  ('Anfoe 10000IU Injection', 0.94, 2072)],\n",
              " [('AZR Tablet', 1.0, 422),\n",
              "  ('Azathioprine 50mg Tablet', 1.0, 96),\n",
              "  ('Azoran Tablet', 1.0, 225),\n",
              "  ('Imuza Tablet', 1.0, 100),\n",
              "  ('Immugo Tablet', 1.0, 166)]]"
            ]
          },
          "execution_count": 73,
          "metadata": {},
          "output_type": "execute_result"
        }
      ],
      "source": [
        "recommendations"
      ]
    },
    {
      "cell_type": "markdown",
      "metadata": {},
      "source": [
        "Optimization"
      ]
    },
    {
      "cell_type": "code",
      "execution_count": 74,
      "metadata": {},
      "outputs": [
        {
          "name": "stdout",
          "output_type": "stream",
          "text": [
            "Optimized Solution: [('S-Methiwave 200 Tablet', 1.0, 110), ('Wepox 5000IU Injection', 0.94, 80), ('Azathioprine 50mg Tablet', 1.0, 96)]\n",
            "Optimized Fitness: 8.8854\n"
          ]
        }
      ],
      "source": [
        "def flatten_list(nested_list):\n",
        "    flattened_list = []\n",
        "    for element in nested_list:\n",
        "        if isinstance(element, list):\n",
        "            flattened_list.extend(flatten_list(element))\n",
        "        else:\n",
        "            flattened_list.append(element)\n",
        "    return flattened_list\n",
        "recommendations = flatten_list(recommendations)\n",
        "\n",
        "def initialize_population(population_size, recommendations1, budget):\n",
        "    population = []\n",
        "    group_1 = recommendations1[:5]\n",
        "    group_2 = recommendations1[5:10]\n",
        "    group_3 = recommendations1[10:15]\n",
        "\n",
        "    while len(population) < population_size:\n",
        "        selected_medicines = []\n",
        "        total_price = 0\n",
        "\n",
        "        # สุ่มตามกลุ่มที่กำหนด\n",
        "        selected_group_1 = random.sample(group_1, 1)\n",
        "        selected_group_2 = random.sample(group_2, 1)\n",
        "        selected_group_3 = random.sample(group_3, 1)\n",
        "\n",
        "        selected_medicines.extend(selected_group_1 + selected_group_2 + selected_group_3)\n",
        "        total_price = sum([med[2] for med in selected_medicines])\n",
        "\n",
        "        # เพิ่ม solution เข้าไปใน population\n",
        "        if selected_medicines not in [item[0] for item in population]:\n",
        "            population.append(selected_medicines)\n",
        "\n",
        "    return population\n",
        "\n",
        "def evaluate_fitness(solution, budget):\n",
        "    similarity_score = sum([med[1] for med in solution])\n",
        "    total_price = sum([med[2] for med in solution])\n",
        "    if total_price <= budget:\n",
        "        fitness = round((similarity_score ** 3 / total_price) * 100, 4)\n",
        "    else:\n",
        "        fitness = 0\n",
        "    return fitness\n",
        "\n",
        "def optimize_bee_algorithm(recommendations, budget, population_size, iterations, patches_count, e_sites):\n",
        "    best_solution = None\n",
        "    best_fitness = float('-inf')\n",
        "    population = initialize_population(population_size, recommendations, budget)\n",
        "    \n",
        "    for i in range(iterations):\n",
        "        patch_size = population_size // patches_count\n",
        "        patch_solutions = [population[j * patch_size:(j + 1) * patch_size] for j in range(patches_count)]\n",
        "        \n",
        "        for patch in patch_solutions:\n",
        "            e_sites_count = min(len(patch), e_sites)\n",
        "            selected_bees = random.sample(patch, e_sites_count)\n",
        "            \n",
        "            for bee_solution in selected_bees:\n",
        "                bee_fitness = evaluate_fitness(bee_solution, budget)\n",
        "                if bee_fitness > best_fitness:\n",
        "                    best_fitness = bee_fitness\n",
        "                    best_solution = bee_solution\n",
        "        \n",
        "            for solution in patch:\n",
        "                if solution not in selected_bees:\n",
        "                    random_bee_fitness = evaluate_fitness(solution, budget)\n",
        "                    if random_bee_fitness > best_fitness:\n",
        "                        best_fitness = random_bee_fitness\n",
        "                        best_solution = solution\n",
        "        \n",
        "        ## พิมพ์ fitness ในแต่ละขั้น\n",
        "        #for idx, solution in enumerate(population, start=1):\n",
        "         #   solution_fitness = evaluate_fitness(solution, budget)\n",
        "          #  print(f\"Iteration {i + 1}, Solution {idx} Fitness: {solution_fitness}\")\n",
        " \n",
        "    return best_solution, best_fitness\n",
        "\n",
        "budget = 3000\n",
        "population_size = 455\n",
        "patches_count = 10\n",
        "e_sites = 1\n",
        "iterations = 10\n",
        "\n",
        "optimized_solution, optimized_fitness = optimize_bee_algorithm(recommendations, budget, population_size, iterations, patches_count, e_sites)\n",
        "print(\"Optimized Solution:\", optimized_solution)\n",
        "print(\"Optimized Fitness:\", optimized_fitness)"
      ]
    }
  ],
  "metadata": {
    "colab": {
      "provenance": []
    },
    "kernelspec": {
      "display_name": "Python 3",
      "language": "python",
      "name": "python3"
    },
    "language_info": {
      "codemirror_mode": {
        "name": "ipython",
        "version": 3
      },
      "file_extension": ".py",
      "mimetype": "text/x-python",
      "name": "python",
      "nbconvert_exporter": "python",
      "pygments_lexer": "ipython3",
      "version": "3.11.4"
    }
  },
  "nbformat": 4,
  "nbformat_minor": 0
}
